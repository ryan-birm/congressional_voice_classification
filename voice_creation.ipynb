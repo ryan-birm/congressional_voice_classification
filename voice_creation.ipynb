{
 "cells": [
  {
   "cell_type": "code",
   "execution_count": 2,
   "metadata": {},
   "outputs": [
    {
     "name": "stdout",
     "output_type": "stream",
     "text": [
      "Defaulting to user installation because normal site-packages is not writeable\n",
      "Requirement already satisfied: librosa in /Users/ryanbirmingham/Library/Python/3.9/lib/python/site-packages (0.10.2.post1)\n",
      "Requirement already satisfied: audioread>=2.1.9 in /Users/ryanbirmingham/Library/Python/3.9/lib/python/site-packages (from librosa) (3.0.1)\n",
      "Requirement already satisfied: numpy!=1.22.0,!=1.22.1,!=1.22.2,>=1.20.3 in /Users/ryanbirmingham/Library/Python/3.9/lib/python/site-packages (from librosa) (1.23.5)\n",
      "Requirement already satisfied: scipy>=1.2.0 in /Users/ryanbirmingham/Library/Python/3.9/lib/python/site-packages (from librosa) (1.13.1)\n",
      "Requirement already satisfied: scikit-learn>=0.20.0 in /Users/ryanbirmingham/Library/Python/3.9/lib/python/site-packages (from librosa) (1.5.2)\n",
      "Requirement already satisfied: joblib>=0.14 in /Users/ryanbirmingham/Library/Python/3.9/lib/python/site-packages (from librosa) (1.4.2)\n",
      "Requirement already satisfied: decorator>=4.3.0 in /Users/ryanbirmingham/Library/Python/3.9/lib/python/site-packages (from librosa) (5.1.1)\n",
      "Requirement already satisfied: numba>=0.51.0 in /Users/ryanbirmingham/Library/Python/3.9/lib/python/site-packages (from librosa) (0.60.0)\n",
      "Requirement already satisfied: soundfile>=0.12.1 in /Users/ryanbirmingham/Library/Python/3.9/lib/python/site-packages (from librosa) (0.12.1)\n",
      "Requirement already satisfied: pooch>=1.1 in /Users/ryanbirmingham/Library/Python/3.9/lib/python/site-packages (from librosa) (1.8.2)\n",
      "Requirement already satisfied: soxr>=0.3.2 in /Users/ryanbirmingham/Library/Python/3.9/lib/python/site-packages (from librosa) (0.5.0.post1)\n",
      "Requirement already satisfied: typing-extensions>=4.1.1 in /Users/ryanbirmingham/Library/Python/3.9/lib/python/site-packages (from librosa) (4.12.2)\n",
      "Requirement already satisfied: lazy-loader>=0.1 in /Users/ryanbirmingham/Library/Python/3.9/lib/python/site-packages (from librosa) (0.4)\n",
      "Requirement already satisfied: msgpack>=1.0 in /Users/ryanbirmingham/Library/Python/3.9/lib/python/site-packages (from librosa) (1.1.0)\n",
      "Requirement already satisfied: packaging in /Users/ryanbirmingham/Library/Python/3.9/lib/python/site-packages (from lazy-loader>=0.1->librosa) (24.1)\n",
      "Requirement already satisfied: llvmlite<0.44,>=0.43.0dev0 in /Users/ryanbirmingham/Library/Python/3.9/lib/python/site-packages (from numba>=0.51.0->librosa) (0.43.0)\n",
      "Requirement already satisfied: platformdirs>=2.5.0 in /Users/ryanbirmingham/Library/Python/3.9/lib/python/site-packages (from pooch>=1.1->librosa) (3.9.1)\n",
      "Requirement already satisfied: requests>=2.19.0 in /Users/ryanbirmingham/Library/Python/3.9/lib/python/site-packages (from pooch>=1.1->librosa) (2.32.3)\n",
      "Requirement already satisfied: threadpoolctl>=3.1.0 in /Users/ryanbirmingham/Library/Python/3.9/lib/python/site-packages (from scikit-learn>=0.20.0->librosa) (3.5.0)\n",
      "Requirement already satisfied: cffi>=1.0 in /Users/ryanbirmingham/Library/Python/3.9/lib/python/site-packages (from soundfile>=0.12.1->librosa) (1.17.1)\n",
      "Requirement already satisfied: pycparser in /Users/ryanbirmingham/Library/Python/3.9/lib/python/site-packages (from cffi>=1.0->soundfile>=0.12.1->librosa) (2.22)\n",
      "Requirement already satisfied: charset-normalizer<4,>=2 in /Users/ryanbirmingham/Library/Python/3.9/lib/python/site-packages (from requests>=2.19.0->pooch>=1.1->librosa) (3.4.0)\n",
      "Requirement already satisfied: idna<4,>=2.5 in /Users/ryanbirmingham/Library/Python/3.9/lib/python/site-packages (from requests>=2.19.0->pooch>=1.1->librosa) (3.10)\n",
      "Requirement already satisfied: urllib3<3,>=1.21.1 in /Users/ryanbirmingham/Library/Python/3.9/lib/python/site-packages (from requests>=2.19.0->pooch>=1.1->librosa) (2.2.3)\n",
      "Requirement already satisfied: certifi>=2017.4.17 in /Users/ryanbirmingham/Library/Python/3.9/lib/python/site-packages (from requests>=2.19.0->pooch>=1.1->librosa) (2024.8.30)\n",
      "Defaulting to user installation because normal site-packages is not writeable\n",
      "Requirement already satisfied: tensorflow in /Users/ryanbirmingham/Library/Python/3.9/lib/python/site-packages (2.16.2)\n",
      "Requirement already satisfied: absl-py>=1.0.0 in /Users/ryanbirmingham/Library/Python/3.9/lib/python/site-packages (from tensorflow) (2.1.0)\n",
      "Requirement already satisfied: astunparse>=1.6.0 in /Users/ryanbirmingham/Library/Python/3.9/lib/python/site-packages (from tensorflow) (1.6.3)\n",
      "Requirement already satisfied: flatbuffers>=23.5.26 in /Users/ryanbirmingham/Library/Python/3.9/lib/python/site-packages (from tensorflow) (24.3.25)\n",
      "Requirement already satisfied: gast!=0.5.0,!=0.5.1,!=0.5.2,>=0.2.1 in /Users/ryanbirmingham/Library/Python/3.9/lib/python/site-packages (from tensorflow) (0.6.0)\n",
      "Requirement already satisfied: google-pasta>=0.1.1 in /Users/ryanbirmingham/Library/Python/3.9/lib/python/site-packages (from tensorflow) (0.2.0)\n",
      "Requirement already satisfied: h5py>=3.10.0 in /Users/ryanbirmingham/Library/Python/3.9/lib/python/site-packages (from tensorflow) (3.12.1)\n",
      "Requirement already satisfied: libclang>=13.0.0 in /Users/ryanbirmingham/Library/Python/3.9/lib/python/site-packages (from tensorflow) (18.1.1)\n",
      "Requirement already satisfied: ml-dtypes~=0.3.1 in /Users/ryanbirmingham/Library/Python/3.9/lib/python/site-packages (from tensorflow) (0.3.2)\n",
      "Requirement already satisfied: opt-einsum>=2.3.2 in /Users/ryanbirmingham/Library/Python/3.9/lib/python/site-packages (from tensorflow) (3.4.0)\n",
      "Requirement already satisfied: packaging in /Users/ryanbirmingham/Library/Python/3.9/lib/python/site-packages (from tensorflow) (24.1)\n",
      "Requirement already satisfied: protobuf!=4.21.0,!=4.21.1,!=4.21.2,!=4.21.3,!=4.21.4,!=4.21.5,<5.0.0dev,>=3.20.3 in /Users/ryanbirmingham/Library/Python/3.9/lib/python/site-packages (from tensorflow) (4.25.5)\n",
      "Requirement already satisfied: requests<3,>=2.21.0 in /Users/ryanbirmingham/Library/Python/3.9/lib/python/site-packages (from tensorflow) (2.32.3)\n",
      "Requirement already satisfied: setuptools in /Applications/Xcode.app/Contents/Developer/Library/Frameworks/Python3.framework/Versions/3.9/lib/python3.9/site-packages (from tensorflow) (58.0.4)\n",
      "Requirement already satisfied: six>=1.12.0 in /Applications/Xcode.app/Contents/Developer/Library/Frameworks/Python3.framework/Versions/3.9/lib/python3.9/site-packages (from tensorflow) (1.15.0)\n",
      "Requirement already satisfied: termcolor>=1.1.0 in /Users/ryanbirmingham/Library/Python/3.9/lib/python/site-packages (from tensorflow) (2.5.0)\n",
      "Requirement already satisfied: typing-extensions>=3.6.6 in /Users/ryanbirmingham/Library/Python/3.9/lib/python/site-packages (from tensorflow) (4.12.2)\n",
      "Requirement already satisfied: wrapt>=1.11.0 in /Users/ryanbirmingham/Library/Python/3.9/lib/python/site-packages (from tensorflow) (1.16.0)\n",
      "Requirement already satisfied: grpcio<2.0,>=1.24.3 in /Users/ryanbirmingham/Library/Python/3.9/lib/python/site-packages (from tensorflow) (1.67.0)\n",
      "Requirement already satisfied: tensorboard<2.17,>=2.16 in /Users/ryanbirmingham/Library/Python/3.9/lib/python/site-packages (from tensorflow) (2.16.2)\n",
      "Requirement already satisfied: keras>=3.0.0 in /Users/ryanbirmingham/Library/Python/3.9/lib/python/site-packages (from tensorflow) (3.6.0)\n",
      "Requirement already satisfied: tensorflow-io-gcs-filesystem>=0.23.1 in /Users/ryanbirmingham/Library/Python/3.9/lib/python/site-packages (from tensorflow) (0.37.1)\n",
      "Requirement already satisfied: numpy<2.0.0,>=1.23.5 in /Users/ryanbirmingham/Library/Python/3.9/lib/python/site-packages (from tensorflow) (1.23.5)\n",
      "Requirement already satisfied: wheel<1.0,>=0.23.0 in /Applications/Xcode.app/Contents/Developer/Library/Frameworks/Python3.framework/Versions/3.9/lib/python3.9/site-packages (from astunparse>=1.6.0->tensorflow) (0.37.0)\n",
      "Requirement already satisfied: rich in /Users/ryanbirmingham/Library/Python/3.9/lib/python/site-packages (from keras>=3.0.0->tensorflow) (13.9.3)\n",
      "Requirement already satisfied: namex in /Users/ryanbirmingham/Library/Python/3.9/lib/python/site-packages (from keras>=3.0.0->tensorflow) (0.0.8)\n",
      "Requirement already satisfied: optree in /Users/ryanbirmingham/Library/Python/3.9/lib/python/site-packages (from keras>=3.0.0->tensorflow) (0.13.0)\n",
      "Requirement already satisfied: charset-normalizer<4,>=2 in /Users/ryanbirmingham/Library/Python/3.9/lib/python/site-packages (from requests<3,>=2.21.0->tensorflow) (3.4.0)\n",
      "Requirement already satisfied: idna<4,>=2.5 in /Users/ryanbirmingham/Library/Python/3.9/lib/python/site-packages (from requests<3,>=2.21.0->tensorflow) (3.10)\n",
      "Requirement already satisfied: urllib3<3,>=1.21.1 in /Users/ryanbirmingham/Library/Python/3.9/lib/python/site-packages (from requests<3,>=2.21.0->tensorflow) (2.2.3)\n",
      "Requirement already satisfied: certifi>=2017.4.17 in /Users/ryanbirmingham/Library/Python/3.9/lib/python/site-packages (from requests<3,>=2.21.0->tensorflow) (2024.8.30)\n",
      "Requirement already satisfied: markdown>=2.6.8 in /Users/ryanbirmingham/Library/Python/3.9/lib/python/site-packages (from tensorboard<2.17,>=2.16->tensorflow) (3.7)\n",
      "Requirement already satisfied: tensorboard-data-server<0.8.0,>=0.7.0 in /Users/ryanbirmingham/Library/Python/3.9/lib/python/site-packages (from tensorboard<2.17,>=2.16->tensorflow) (0.7.2)\n",
      "Requirement already satisfied: werkzeug>=1.0.1 in /Users/ryanbirmingham/Library/Python/3.9/lib/python/site-packages (from tensorboard<2.17,>=2.16->tensorflow) (3.0.4)\n",
      "Requirement already satisfied: importlib-metadata>=4.4 in /Users/ryanbirmingham/Library/Python/3.9/lib/python/site-packages (from markdown>=2.6.8->tensorboard<2.17,>=2.16->tensorflow) (8.5.0)\n",
      "Requirement already satisfied: MarkupSafe>=2.1.1 in /Users/ryanbirmingham/Library/Python/3.9/lib/python/site-packages (from werkzeug>=1.0.1->tensorboard<2.17,>=2.16->tensorflow) (3.0.2)\n",
      "Requirement already satisfied: markdown-it-py>=2.2.0 in /Users/ryanbirmingham/Library/Python/3.9/lib/python/site-packages (from rich->keras>=3.0.0->tensorflow) (3.0.0)\n",
      "Requirement already satisfied: pygments<3.0.0,>=2.13.0 in /Users/ryanbirmingham/Library/Python/3.9/lib/python/site-packages (from rich->keras>=3.0.0->tensorflow) (2.18.0)\n",
      "Requirement already satisfied: zipp>=3.20 in /Users/ryanbirmingham/Library/Python/3.9/lib/python/site-packages (from importlib-metadata>=4.4->markdown>=2.6.8->tensorboard<2.17,>=2.16->tensorflow) (3.20.2)\n",
      "Requirement already satisfied: mdurl~=0.1 in /Users/ryanbirmingham/Library/Python/3.9/lib/python/site-packages (from markdown-it-py>=2.2.0->rich->keras>=3.0.0->tensorflow) (0.1.2)\n",
      "Defaulting to user installation because normal site-packages is not writeable\n",
      "Requirement already satisfied: numpy==1.23.5 in /Users/ryanbirmingham/Library/Python/3.9/lib/python/site-packages (1.23.5)\n"
     ]
    }
   ],
   "source": [
    "!pip install librosa\n",
    "!pip install tensorflow\n",
    "!pip install numpy==1.23.5"
   ]
  },
  {
   "cell_type": "markdown",
   "metadata": {},
   "source": [
    "Tensor flow does not work with Numpy 2.0 onward so make sure that "
   ]
  },
  {
   "cell_type": "code",
   "execution_count": 3,
   "metadata": {},
   "outputs": [
    {
     "name": "stdout",
     "output_type": "stream",
     "text": [
      "1.23.5\n"
     ]
    },
    {
     "name": "stderr",
     "output_type": "stream",
     "text": [
      "/Users/ryanbirmingham/Library/Python/3.9/lib/python/site-packages/urllib3/__init__.py:35: NotOpenSSLWarning: urllib3 v2 only supports OpenSSL 1.1.1+, currently the 'ssl' module is compiled with 'LibreSSL 2.8.3'. See: https://github.com/urllib3/urllib3/issues/3020\n",
      "  warnings.warn(\n"
     ]
    }
   ],
   "source": [
    "#Imports\n",
    "from pydub import AudioSegment as audio\n",
    "import os\n",
    "import numpy as np\n",
    "import librosa\n",
    "os.environ['TF_CPP_MIN_LOG_LEVEL'] = '2'\n",
    "import tensorflow as tf\n",
    "import re "
   ]
  },
  {
   "cell_type": "markdown",
   "metadata": {},
   "source": [
    "Import explanations\n",
    "    - AudioSegment\n",
    "    - os\n",
    "        Used for getting the paths for the audio files and saving them to new folders\n",
    "    - librosa\n",
    "        Package for audio analysis"
   ]
  },
  {
   "cell_type": "code",
   "execution_count": 5,
   "metadata": {},
   "outputs": [],
   "source": [
    "unproccessed_data_dir = os.path.abspath('') + \"/Unproccessed_Wav_Files\""
   ]
  },
  {
   "cell_type": "markdown",
   "metadata": {},
   "source": [
    "Steps\n",
    "- go through all files in the unprocessed wav files\n",
    "- break up all files so they are split by 1 second\n",
    "- use regex to get the file name minus the .wav at the end to make new 1 second wav files\n",
    "- save each of the files into the processed wav folder"
   ]
  },
  {
   "cell_type": "code",
   "execution_count": 8,
   "metadata": {},
   "outputs": [
    {
     "name": "stdout",
     "output_type": "stream",
     "text": [
      "stephenCohen\n",
      "michaelQuigley\n",
      "addisonWilson\n",
      "christineSmith\n",
      "michaelLawler\n",
      "samuelgraves\n",
      "victoriaSpartz\n",
      "kevinKiley\n",
      "addisonWilson\n",
      "richardlarsen\n",
      "addisonWilson\n",
      "stephenCohen\n",
      "addisonWilson\n",
      "stephenCohen\n",
      "sheldonWhitehouse\n",
      "stephenCohen\n"
     ]
    }
   ],
   "source": [
    "fpath = f\"{os.path.abspath('')}/Processed_Wav_Files/\"\n",
    "for filename in os.listdir(unproccessed_data_dir):\n",
    "    if filename.endswith(\".wav\"):\n",
    "        hearing = audio.from_wav(os.path.join(unproccessed_data_dir,filename))\n",
    "        speaker = filename.removesuffix(\".wav\")\n",
    "        #name of congress person for processed_wav_files folder\n",
    "        congress_name = speaker[:re.search(r\"\\d+\",speaker).start()] \n",
    "        #start duration in milliseconds for audio recording start\n",
    "        t1 = 0\n",
    "        #end duration in milliseconds for audio recording start\n",
    "        t2 = 1000\n",
    "        #second of the clip\n",
    "        second = 1\n",
    "        total_time = hearing.duration_seconds*1000\n",
    "        while t2 <= total_time:\n",
    "            new_audio = hearing[t1:t2]\n",
    "            try:\n",
    "                os.makedirs(f\"{fpath}{congress_name}\")\n",
    "                new_audio.export(f\"{fpath}/{congress_name}/{speaker}_{second}.wav\", format = \"wav\");\n",
    "            except:\n",
    "                new_audio.export(f\"{fpath}/{congress_name}/{speaker}_{second}.wav\", format = \"wav\");\n",
    "            t1 += 1000\n",
    "            t2 += 1000\n",
    "            second += 1"
   ]
  },
  {
   "cell_type": "code",
   "execution_count": null,
   "metadata": {},
   "outputs": [],
   "source": []
  }
 ],
 "metadata": {
  "kernelspec": {
   "display_name": "Python 3",
   "language": "python",
   "name": "python3"
  },
  "language_info": {
   "codemirror_mode": {
    "name": "ipython",
    "version": 3
   },
   "file_extension": ".py",
   "mimetype": "text/x-python",
   "name": "python",
   "nbconvert_exporter": "python",
   "pygments_lexer": "ipython3",
   "version": "3.9.6"
  }
 },
 "nbformat": 4,
 "nbformat_minor": 2
}
