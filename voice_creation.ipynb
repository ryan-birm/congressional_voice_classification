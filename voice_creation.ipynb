{
 "cells": [
  {
   "cell_type": "markdown",
   "metadata": {},
   "source": [
    "# Pip Installs"
   ]
  },
  {
   "cell_type": "code",
   "execution_count": 1,
   "metadata": {},
   "outputs": [],
   "source": [
    "%%capture\n",
    "\n",
    "!pip install librosa\n",
    "!pip install tensorflow\n",
    "!pip install numpy==1.23.5\n",
    "!pip install pysoundfile"
   ]
  },
  {
   "cell_type": "markdown",
   "metadata": {},
   "source": [
    "Tensor flow does not work with Numpy 2.0 onward so make sure that "
   ]
  },
  {
   "cell_type": "markdown",
   "metadata": {},
   "source": [
    "# Imports"
   ]
  },
  {
   "cell_type": "markdown",
   "metadata": {},
   "source": [
    "Below are the necessary imports "
   ]
  },
  {
   "cell_type": "code",
   "execution_count": 2,
   "metadata": {},
   "outputs": [
    {
     "name": "stderr",
     "output_type": "stream",
     "text": [
      "/Users/ryanbirmingham/Library/Python/3.9/lib/python/site-packages/urllib3/__init__.py:35: NotOpenSSLWarning: urllib3 v2 only supports OpenSSL 1.1.1+, currently the 'ssl' module is compiled with 'LibreSSL 2.8.3'. See: https://github.com/urllib3/urllib3/issues/3020\n",
      "  warnings.warn(\n"
     ]
    }
   ],
   "source": [
    "#Imports\n",
    "from pydub import AudioSegment as audio\n",
    "import os\n",
    "import numpy as np\n",
    "import librosa\n",
    "#Tensor Flow needs numpy at 1.23.5\n",
    "os.environ['TF_CPP_MIN_LOG_LEVEL'] = '2'\n",
    "import tensorflow as tf\n",
    "import re \n",
    "import soundfile as sf\n",
    "from sklearn.preprocessing import StandardScaler\n",
    "from sklearn.model_selection import train_test_split\n",
    "from sklearn.svm import SVC\n",
    "from sklearn.preprocessing import LabelEncoder"
   ]
  },
  {
   "cell_type": "markdown",
   "metadata": {},
   "source": [
    "# File Creation"
   ]
  },
  {
   "cell_type": "markdown",
   "metadata": {},
   "source": [
    "### Creating File Paths"
   ]
  },
  {
   "cell_type": "code",
   "execution_count": 44,
   "metadata": {},
   "outputs": [],
   "source": [
    "unprocessed_data_dir = os.path.abspath('') + \"/Unprocessed_Wav_Files\"\n",
    "proccesed_data_dir = os.path.abspath('') + \"/Processed_Wav_Files\""
   ]
  },
  {
   "cell_type": "markdown",
   "metadata": {},
   "source": [
    "Steps\n",
    "- go through all files in the unprocessed wav files\n",
    "- break up all files so they are split by 1 second\n",
    "- use regex to get the file name minus the .wav at the end to make new 1 second wav files\n",
    "- save each of the files into the processed wav folder"
   ]
  },
  {
   "cell_type": "markdown",
   "metadata": {},
   "source": [
    "Resample the unproccessed audio files for speaker recognition. This is needed for tensorflow and keras"
   ]
  },
  {
   "cell_type": "code",
   "execution_count": 4,
   "metadata": {},
   "outputs": [
    {
     "data": {
      "text/plain": [
       "'\\nf_path = os.path.join(unproccessed_data_dir, \"addisonWilson40173Clip1.wav\")\\narr, hz = librosa.load(f_path, sr = None)\\nnew_f = librosa.resample(arr, orig_sr= hz, target_sr= 16000)\\nsf.write(os.path.join(unproccessed_data_dir,\"new.wav\"),new_f, 16000)\\n'"
      ]
     },
     "execution_count": 4,
     "metadata": {},
     "output_type": "execute_result"
    }
   ],
   "source": [
    "#This was a test for the fixing the audio with a single thing\n",
    "\n",
    "\"\"\"\n",
    "f_path = os.path.join(unproccessed_data_dir, \"addisonWilson40173Clip1.wav\")\n",
    "arr, hz = librosa.load(f_path, sr = None)\n",
    "new_f = librosa.resample(arr, orig_sr= hz, target_sr= 16000)\n",
    "sf.write(os.path.join(unproccessed_data_dir,\"new.wav\"),new_f, 16000)\n",
    "\"\"\"\n"
   ]
  },
  {
   "cell_type": "markdown",
   "metadata": {},
   "source": [
    "### Changes the Unporcessed_Wav_Files into 16000 hz\n",
    "\n",
    "This is necessary for speaker recognition model training and feature extractions"
   ]
  },
  {
   "cell_type": "code",
   "execution_count": 45,
   "metadata": {},
   "outputs": [],
   "source": [
    "for file in os.listdir(unprocessed_data_dir):\n",
    "    f_path = os.path.join(unprocessed_data_dir, file)\n",
    "    arr, hz = librosa.load(f_path,sr = None)\n",
    "    if hz != 16000:\n",
    "        new_f = librosa.resample(arr, orig_sr = hz, target_sr = 16000)\n",
    "        sf.write(f_path, new_f, 16000)"
   ]
  },
  {
   "cell_type": "markdown",
   "metadata": {},
   "source": [
    "This is a test"
   ]
  },
  {
   "cell_type": "code",
   "execution_count": 46,
   "metadata": {},
   "outputs": [
    {
     "name": "stdout",
     "output_type": "stream",
     "text": [
      "16000\n"
     ]
    }
   ],
   "source": [
    "f_path = os.path.join(unprocessed_data_dir, \"addisonWilson40173Clip1.wav\")\n",
    "arr, hz = librosa.load(f_path, sr = None)\n",
    "print(hz)"
   ]
  },
  {
   "cell_type": "markdown",
   "metadata": {},
   "source": [
    "### Separates the files into 1 second intervals"
   ]
  },
  {
   "cell_type": "code",
   "execution_count": 48,
   "metadata": {},
   "outputs": [],
   "source": [
    "for filename in os.listdir(unprocessed_data_dir):\n",
    "    if filename.endswith(\".wav\"):\n",
    "        hearing = audio.from_wav(os.path.join(unprocessed_data_dir,filename))\n",
    "        speaker = filename.removesuffix(\".wav\")\n",
    "        #name of congress person for processed_wav_files folder\n",
    "        congress_name = speaker[:re.search(r\"\\d+\",speaker).start()] \n",
    "        #start duration in milliseconds for audio recording start\n",
    "        t1 = 0\n",
    "        #end duration in milliseconds for audio recording start\n",
    "        t2 = 1000\n",
    "        #second of the clip\n",
    "        second = 1\n",
    "        total_time = hearing.duration_seconds*1000\n",
    "        # Goes through all of the large audio files, splits them into 1 second audio files\n",
    "        # and saves to the speaker name folder\n",
    "        while t2 <= total_time:\n",
    "            new_audio = hearing[t1:t2]\n",
    "            #arr, hz = librosa.load(new_audio, sr = None)\n",
    "            try:\n",
    "                os.makedirs(f\"{proccesed_data_dir}/{congress_name}\")\n",
    "                new_audio.export(f\"{proccesed_data_dir}/{congress_name}/{speaker}_{second}.wav\", format = \"wav\");\n",
    "                #new_audio.export(f\"{proccesed_data_dir}/{congress_name}/{speaker}_{second}.wav\", format = \"wav\", parameters=[\"-ar\", \"16000\"]);\n",
    "            except:\n",
    "                #new_audio.export(f\"{proccesed_data_dir}/{congress_name}/{speaker}_{second}.wav\", format = \"wav\", parameters=[\"-ar\", \"16000\"]);\n",
    "                new_audio.export(f\"{proccesed_data_dir}/{congress_name}/{speaker}_{second}.wav\", format = \"wav\");\n",
    "            t1 += 1000\n",
    "            t2 += 1000\n",
    "            second += 1"
   ]
  },
  {
   "cell_type": "markdown",
   "metadata": {},
   "source": [
    "Check the Hz of a split file"
   ]
  },
  {
   "cell_type": "code",
   "execution_count": 49,
   "metadata": {},
   "outputs": [
    {
     "name": "stdout",
     "output_type": "stream",
     "text": [
      "16000\n"
     ]
    }
   ],
   "source": [
    "a,b = librosa.load(os.path.abspath('')  + \"/Processed_Wav_Files/addisonWilson/addisonWilson40173Clip1_2.wav\", sr = None)\n",
    "print(b)"
   ]
  },
  {
   "cell_type": "markdown",
   "metadata": {},
   "source": [
    "### Feature Extraction"
   ]
  },
  {
   "cell_type": "code",
   "execution_count": 50,
   "metadata": {},
   "outputs": [],
   "source": [
    "def feature_extract (data_dir):\n",
    "    features = []\n",
    "    labels = []\n",
    "    for foldr in os.listdir(data_dir):\n",
    "        if foldr != \".DS_Store\":\n",
    "            for file in os.listdir(f\"{data_dir}/{foldr}\"):\n",
    "                arr, hz = librosa.load(os.path.join(data_dir,foldr,file), sr = None, duration =  1)\n",
    "                mfccs = librosa.feature.mfcc(y = arr, sr = hz, n_mfcc = 13)\n",
    "                mfccs = StandardScaler().fit_transform(mfccs)\n",
    "                features.append(mfccs.T)\n",
    "                labels.append(foldr)       \n",
    "    return np.array(features), np.array(labels)           \n",
    "features, labels = feature_extract(proccesed_data_dir)"
   ]
  },
  {
   "cell_type": "markdown",
   "metadata": {},
   "source": [
    "### Feature Visualization"
   ]
  },
  {
   "cell_type": "code",
   "execution_count": 51,
   "metadata": {},
   "outputs": [
    {
     "name": "stdout",
     "output_type": "stream",
     "text": [
      "Label: jamesJordan, Features Shape: (32, 13)\n",
      "[-3.360361   -0.1903183   0.77904576  0.15367031  0.22454423  0.7346955\n",
      "  0.19315235  0.37246782  0.30784097  0.07275002  0.29632047  0.19204979\n",
      "  0.22414224]\n",
      "----------------------------------------\n",
      "Label: jamesJordan, Features Shape: (32, 13)\n",
      "[-3.004173    1.3296394  -0.24910702  1.3453428   0.13564226 -0.1008335\n",
      "  0.27885127  0.10520647  0.15796548 -0.3386022   0.19895187  0.18986304\n",
      " -0.04874685]\n",
      "----------------------------------------\n",
      "Label: jamesJordan, Features Shape: (32, 13)\n",
      "[-3.0829401e+00  1.5331542e+00  1.5818969e-04  9.0373278e-01\n",
      "  2.7616814e-01 -1.6860381e-01  1.2954178e-01  5.0936118e-02\n",
      "  3.0296618e-01 -2.4682966e-01  1.3251595e-01  1.8341005e-01\n",
      " -1.4209974e-02]\n",
      "----------------------------------------\n",
      "Label: jamesJordan, Features Shape: (32, 13)\n",
      "[-3.2771137   0.8414707   0.16856258  1.0565054   0.38853514  0.03541012\n",
      "  0.28715527  0.11213993  0.25858703 -0.12735942 -0.05219261  0.27088258\n",
      "  0.03741675]\n",
      "----------------------------------------\n",
      "Label: jamesJordan, Features Shape: (32, 13)\n",
      "[-3.0746045   1.7530913   0.533556    0.20860411 -0.17295307  0.0458616\n",
      "  0.19139911  0.06932218  0.1906152   0.067875   -0.03810277  0.15763544\n",
      "  0.0677003 ]\n",
      "----------------------------------------\n",
      "Label: jamesJordan, Features Shape: (32, 13)\n",
      "[-3.398742   -0.10872346  0.6772046   0.35226366  0.24953832  0.5473449\n",
      "  0.17489623  0.48153022  0.28796607  0.09618865  0.19313712  0.21470405\n",
      "  0.23269135]\n",
      "----------------------------------------\n",
      "Label: jamesJordan, Features Shape: (32, 13)\n",
      "[-2.7646813   2.0942702  -0.19576429 -0.22366013  0.4453705   0.47319686\n",
      "  0.19346973 -0.5755745   0.15047589  0.07803743 -0.02541845  0.15919559\n",
      "  0.19108272]\n",
      "----------------------------------------\n",
      "Label: jamesJordan, Features Shape: (32, 13)\n",
      "[-3.279489    0.79560703  0.8012455   0.410987    0.7641427   0.26233813\n",
      " -0.0082308   0.13190381  0.17298053  0.11387119 -0.27027652 -0.01614022\n",
      "  0.12106071]\n",
      "----------------------------------------\n",
      "Label: jamesJordan, Features Shape: (32, 13)\n",
      "[-2.9808128e+00  1.8816133e+00 -3.1945744e-01  4.3166801e-01\n",
      "  2.5422141e-01 -2.6060180e-03  4.9266461e-02 -2.0818448e-01\n",
      "  1.2856293e-01  2.6026598e-01  1.0955344e-01  2.1858835e-01\n",
      "  1.7732103e-01]\n",
      "----------------------------------------\n",
      "Label: jamesJordan, Features Shape: (32, 13)\n",
      "[-3.2194974   1.2438556   0.15754001  0.8625796   0.38593045  0.04576321\n",
      "  0.28686723  0.03357092  0.13428104 -0.08831465 -0.08376943  0.22643614\n",
      "  0.01475757]\n",
      "----------------------------------------\n",
      "Label: jamesJordan, Features Shape: (32, 13)\n",
      "[-3.4071407   0.7187841   0.2189279  -0.07361006  0.22912823  0.45765406\n",
      "  0.43436635  0.17627268  0.36204344  0.23764937  0.27666146  0.24558073\n",
      "  0.12368234]\n",
      "----------------------------------------\n",
      "Label: jamesJordan, Features Shape: (32, 13)\n",
      "[-3.4312105   0.09582331  0.48979557  0.17655864  0.36416644  0.5612175\n",
      "  0.27087793  0.41900498  0.34730837  0.15504743  0.23370078  0.14725426\n",
      "  0.1704553 ]\n",
      "----------------------------------------\n",
      "Label: jamesJordan, Features Shape: (32, 13)\n",
      "[-3.2714481   1.1980108   0.5252789   0.57772356  0.36612183  0.20754851\n",
      " -0.01267239  0.0751759   0.09408665  0.05552718 -0.09547587  0.07115148\n",
      "  0.20897144]\n",
      "----------------------------------------\n",
      "Label: jamesJordan, Features Shape: (32, 13)\n",
      "[-3.4546993   0.48860323  0.26201376  0.3404059   0.35988683  0.34136456\n",
      "  0.25516644  0.22304398  0.24399166  0.23002218  0.24074169  0.2467691\n",
      "  0.22269006]\n",
      "----------------------------------------\n",
      "Label: jamesJordan, Features Shape: (32, 13)\n",
      "[-2.3146858   2.1769729  -0.84007186 -0.14928901 -0.41547343  0.6589645\n",
      "  0.7865181  -0.4081847   0.38798195  0.46480003 -0.10666586  0.3131435\n",
      " -0.5540102 ]\n",
      "----------------------------------------\n",
      "Label: jamesJordan, Features Shape: (32, 13)\n",
      "[-3.4535215   0.43697533  0.28658253  0.31303927  0.33679575  0.34088793\n",
      "  0.26267955  0.41759306  0.19976227  0.21589036  0.23553738  0.24841198\n",
      "  0.15936615]\n",
      "----------------------------------------\n",
      "Label: jamesJordan, Features Shape: (32, 13)\n",
      "[-3.2447448   1.2286553   0.1271793   0.7867273   0.4232883   0.08968578\n",
      " -0.04742306  0.1936867   0.17334297 -0.09118026  0.1279287   0.21157509\n",
      "  0.02127833]\n",
      "----------------------------------------\n",
      "Label: jamesJordan, Features Shape: (32, 13)\n",
      "[-2.9794562   1.553732   -0.47227615  0.8928374   0.3185497  -0.16014877\n",
      "  0.13879497 -0.3336842   0.5096288   0.15169069 -0.07541438  0.36671308\n",
      "  0.08903293]\n",
      "----------------------------------------\n",
      "Label: jamesJordan, Features Shape: (32, 13)\n",
      "[-2.588038    1.9181359  -1.1921767   0.17254339 -0.03439888  0.34475726\n",
      "  0.6702963   0.07963832  0.6118983   0.3981121  -0.21845393 -0.04746588\n",
      " -0.11484828]\n",
      "----------------------------------------\n",
      "Label: jamesJordan, Features Shape: (32, 13)\n",
      "[-3.3035975   0.9815869   0.13160288  0.6530055   0.6822921   0.34322733\n",
      "  0.08953779  0.02180582  0.23684824 -0.00937666 -0.05827882  0.09527539\n",
      "  0.1360713 ]\n",
      "----------------------------------------\n",
      "Label: jamesJordan, Features Shape: (32, 13)\n",
      "[-3.3241796   1.1858498   0.37850723  0.35208374  0.2686902   0.26319146\n",
      "  0.17335862  0.13734807  0.1325439   0.01042612  0.06408223  0.17283139\n",
      "  0.18526687]\n",
      "----------------------------------------\n",
      "Label: jamesJordan, Features Shape: (32, 13)\n",
      "[-3.4352462   0.59871286  0.39844492  0.44775978  0.34664693  0.28433514\n",
      "  0.16683476  0.14248326  0.21149549  0.14525954  0.1766196   0.22881547\n",
      "  0.28783855]\n",
      "----------------------------------------\n",
      "Label: jamesJordan, Features Shape: (32, 13)\n",
      "[-2.665743    2.2616122  -0.4289223  -0.12856646  0.30301458  0.41090977\n",
      "  0.29625937 -0.2614718  -0.01879078  0.15522608 -0.18031408  0.3177186\n",
      " -0.0609323 ]\n",
      "----------------------------------------\n",
      "Label: jamesJordan, Features Shape: (32, 13)\n",
      "[-3.354754   -0.18763322  0.88458246  0.3234874   0.23663144  0.50200593\n",
      "  0.21452184  0.4462857   0.35037252 -0.03989271  0.11812735  0.21049497\n",
      "  0.29577032]\n",
      "----------------------------------------\n",
      "Label: jamesJordan, Features Shape: (32, 13)\n",
      "[-3.1013017   1.5496018  -0.10256978  0.6398974   0.45264468  0.341455\n",
      "  0.18877427 -0.2448527   0.25071943  0.0629191  -0.19207591  0.19553328\n",
      " -0.04074486]\n",
      "----------------------------------------\n",
      "Label: jamesJordan, Features Shape: (32, 13)\n",
      "[-3.343161    0.21116404  0.9840883   0.29053998  0.22936407  0.7306808\n",
      "  0.10412282  0.06933322  0.20159991  0.10460261  0.20579244  0.16638914\n",
      "  0.04548385]\n",
      "----------------------------------------\n",
      "Label: jamesJordan, Features Shape: (32, 13)\n",
      "[-3.1940129   1.3665191   0.18531884  0.7606579   0.29003227  0.36301097\n",
      "  0.00891216 -0.1806589   0.14267203  0.00997334  0.00544766  0.02218533\n",
      "  0.21994221]\n",
      "----------------------------------------\n",
      "Label: jamesJordan, Features Shape: (32, 13)\n",
      "[-3.3962684   0.87770605  0.1807536   0.38293886  0.33303607  0.35132676\n",
      "  0.24327035  0.32559732  0.15136923  0.03790123  0.13237616  0.22217822\n",
      "  0.15781459]\n",
      "----------------------------------------\n",
      "Label: jamesJordan, Features Shape: (32, 13)\n",
      "[-3.2493205   1.2669798  -0.40635404  0.22880928  0.33324432  0.39772674\n",
      "  0.3172453   0.30436236  0.26760134  0.20542039  0.13548948  0.1481607\n",
      "  0.05063482]\n",
      "----------------------------------------\n",
      "Label: jamesJordan, Features Shape: (32, 13)\n",
      "[-3.3411458   0.8662374   0.68989587  0.0575474   0.5459657   0.39521337\n",
      "  0.21518444  0.08632266  0.0621407   0.2967827   0.0321865   0.07613372\n",
      "  0.01753535]\n",
      "----------------------------------------\n",
      "Label: jamesJordan, Features Shape: (32, 13)\n",
      "[-3.304343    1.2394072  -0.05526255  0.28394714  0.14957078  0.36529732\n",
      "  0.34359697  0.16939552  0.23399644  0.20340154  0.03772351  0.22074948\n",
      "  0.1125197 ]\n",
      "----------------------------------------\n",
      "Label: jamesJordan, Features Shape: (32, 13)\n",
      "[-3.30586743e+00  1.19695377e+00  2.97382921e-01  5.44625461e-01\n",
      "  3.31321239e-01  2.50086874e-01  8.27269331e-02  1.28400072e-01\n",
      "  1.02129675e-01 -4.75372653e-04  1.12033404e-01  1.51317284e-01\n",
      "  1.09365374e-01]\n",
      "----------------------------------------\n",
      "Label: jamesJordan, Features Shape: (32, 13)\n",
      "[-3.2567019e+00  7.0942986e-01  1.2122383e+00  9.1856405e-02\n",
      "  4.7830486e-01  1.9687413e-01 -8.6235564e-04  2.7986047e-01\n",
      "  1.0613508e-01  2.0679830e-01 -9.8522022e-02  2.5742058e-02\n",
      "  4.8846837e-02]\n",
      "----------------------------------------\n",
      "Label: jamesJordan, Features Shape: (32, 13)\n",
      "[-3.3549397   0.06423408  0.99185425 -0.02532475  0.54444546  0.2553307\n",
      "  0.24269274  0.34458822  0.2696749   0.31716585  0.09522213  0.09864243\n",
      "  0.15641376]\n",
      "----------------------------------------\n",
      "Label: jamesJordan, Features Shape: (32, 13)\n",
      "[-3.4368649   0.6217729   0.32721716  0.40397632  0.33945662  0.1933445\n",
      "  0.19772582  0.33957     0.2738193   0.14104117  0.13975714  0.27567762\n",
      "  0.18350624]\n",
      "----------------------------------------\n",
      "Label: jamesJordan, Features Shape: (32, 13)\n",
      "[-3.4395537   0.5598422   0.21641143  0.3257265   0.29817238  0.42554605\n",
      "  0.24908954  0.43986407  0.12987013  0.21998574  0.20304015  0.21693403\n",
      "  0.15507151]\n",
      "----------------------------------------\n",
      "Label: jamesJordan, Features Shape: (32, 13)\n",
      "[-3.0003457   1.8781288   0.16233757 -0.10821242  0.4761351   0.30614132\n",
      "  0.18573676 -0.156743    0.12860683  0.00804326 -0.07655     0.17315528\n",
      "  0.02356603]\n",
      "----------------------------------------\n",
      "Label: jamesJordan, Features Shape: (32, 13)\n",
      "[-2.9031312   1.9592867  -0.2132047   0.50273603  0.30058002  0.05854159\n",
      "  0.13394682 -0.47822666  0.11922382  0.1325451   0.21071757  0.1242775\n",
      "  0.05270737]\n",
      "----------------------------------------\n",
      "Label: jamesJordan, Features Shape: (32, 13)\n",
      "[-2.8831425   2.066276    0.01401389 -0.26385632  0.14504899  0.45498377\n",
      "  0.0584407  -0.14132695  0.07765719  0.05208401  0.0061288   0.17229888\n",
      "  0.24139357]\n",
      "----------------------------------------\n",
      "Label: jamesJordan, Features Shape: (32, 13)\n",
      "[-3.08175111e+00  1.77097499e+00  6.72759637e-02  1.38294354e-01\n",
      "  2.03839764e-01  2.67809570e-01  3.42646420e-01  1.14330426e-01\n",
      "  2.31789071e-02 -1.74849629e-01 -2.98374362e-05  2.47991517e-01\n",
      "  8.02886188e-02]\n",
      "----------------------------------------\n",
      "Label: jamesJordan, Features Shape: (32, 13)\n",
      "[-3.2708116   1.258815   -0.01847577  0.6304289   0.29774824  0.13829188\n",
      "  0.17982583  0.18030356  0.3211009   0.06978561 -0.05237546  0.15317991\n",
      "  0.11218316]\n",
      "----------------------------------------\n",
      "Label: jamesJordan, Features Shape: (32, 13)\n",
      "[-2.683354    2.0457325   0.05045633 -0.22406884 -0.76038945  0.07616274\n",
      "  0.6706201  -0.04311065  0.44468558  0.01819221 -0.26911068  0.4564588\n",
      "  0.21772504]\n",
      "----------------------------------------\n",
      "Label: jamesJordan, Features Shape: (32, 13)\n",
      "[-3.3228602   1.1992238   0.25569147  0.1076909   0.03235595  0.25060654\n",
      "  0.39702037  0.19171666  0.11709224  0.13688011  0.11095034  0.22055902\n",
      "  0.30307278]\n",
      "----------------------------------------\n",
      "Label: jamesJordan, Features Shape: (32, 13)\n",
      "[-3.4156277   0.02820813  0.6009794   0.2897786   0.22283769  0.44428438\n",
      "  0.31735393  0.56068695  0.3149183   0.20052573  0.13693054  0.04339631\n",
      "  0.2557279 ]\n",
      "----------------------------------------\n",
      "Label: jamesJordan, Features Shape: (32, 13)\n",
      "[-3.285871    1.0312994   0.8525391   0.30375284  0.4660393   0.06258609\n",
      "  0.09563492  0.16906312  0.09123843  0.16325545 -0.07441013 -0.01891635\n",
      "  0.14378878]\n",
      "----------------------------------------\n",
      "Label: jamesJordan, Features Shape: (32, 13)\n",
      "[-2.9324353   2.030643    0.13516343 -0.0162137  -0.06622311  0.10765687\n",
      "  0.3107135   0.12891363 -0.01696425 -0.07027853 -0.06141517  0.1272465\n",
      "  0.32319304]\n",
      "----------------------------------------\n",
      "Label: jamesJordan, Features Shape: (32, 13)\n",
      "[-3.4260933   0.7432508   0.2964329   0.36651793  0.36032072  0.2613603\n",
      "  0.2526345   0.24297483  0.20510386  0.15492383  0.1438943   0.19739676\n",
      "  0.2012825 ]\n",
      "----------------------------------------\n",
      "Label: jamesJordan, Features Shape: (32, 13)\n",
      "[-2.806773    2.0761063  -0.2777783  -0.13127227 -0.28376257  0.37551323\n",
      "  0.5711465  -0.03546584  0.07721119  0.01183077  0.28572097  0.25747097\n",
      " -0.11994787]\n",
      "----------------------------------------\n",
      "Label: jamesJordan, Features Shape: (32, 13)\n",
      "[-3.065774    1.7484531   0.09266044  0.07488521 -0.30892316  0.34247103\n",
      "  0.4431165   0.07060966 -0.02900138  0.11930997  0.2539993   0.16628787\n",
      "  0.0919055 ]\n",
      "----------------------------------------\n",
      "Label: jamesJordan, Features Shape: (32, 13)\n",
      "[-3.4530306   0.5012919   0.36349425  0.31447047  0.3329172   0.32644078\n",
      "  0.2821025   0.244348    0.22759955  0.22992718  0.2266387   0.20515426\n",
      "  0.19864571]\n",
      "----------------------------------------\n",
      "Label: jamesJordan, Features Shape: (32, 13)\n",
      "[-2.9559598   1.8816985  -0.23968071  0.09765309  0.62010515  0.3953655\n",
      " -0.064777   -0.10077446  0.23391657  0.13726    -0.09154399 -0.03919955\n",
      "  0.12593685]\n",
      "----------------------------------------\n",
      "Label: jamesJordan, Features Shape: (32, 13)\n",
      "[-3.1310532   1.4703074  -0.07547576  0.89944756  0.1575489  -0.05488606\n",
      "  0.11677333  0.05380729  0.33139953 -0.00562381 -0.06696927  0.23857343\n",
      "  0.06615052]\n",
      "----------------------------------------\n",
      "Label: jamesJordan, Features Shape: (32, 13)\n",
      "[-3.054886    1.4601871  -0.13648064  1.0199832   0.09577514 -0.01186339\n",
      "  0.26234403  0.02334742  0.54365134 -0.27531683 -0.05236584  0.15186256\n",
      " -0.0262378 ]\n",
      "----------------------------------------\n",
      "Label: jamesJordan, Features Shape: (32, 13)\n",
      "[-3.0759234   1.317092    0.03089378  1.1660866   0.34063804 -0.07631429\n",
      "  0.17161775  0.08066872  0.23263961 -0.22543529 -0.11723458  0.35574773\n",
      " -0.20047651]\n",
      "----------------------------------------\n",
      "Label: jamesJordan, Features Shape: (32, 13)\n",
      "[-3.3390815   1.1341448   0.36369756  0.31501055  0.14252378  0.35131076\n",
      "  0.2965248   0.21150167  0.09271018  0.10403478  0.1267737   0.08183972\n",
      "  0.11900915]\n",
      "----------------------------------------\n",
      "Label: jamesJordan, Features Shape: (32, 13)\n",
      "[-2.6743612e+00  2.2158544e+00 -7.3133916e-01  2.1804128e-02\n",
      "  3.2270381e-01  2.7739629e-01  1.3626379e-01  7.6430681e-04\n",
      "  2.1551177e-01  1.1891230e-01 -4.7521055e-02  3.2654428e-01\n",
      " -1.8253335e-01]\n",
      "----------------------------------------\n",
      "Label: jamesJordan, Features Shape: (32, 13)\n",
      "[-3.2381845   1.438245    0.36514917  0.21061951  0.14487311  0.21660398\n",
      "  0.2707424   0.15700164  0.00866919 -0.03960224  0.0312223   0.16743919\n",
      "  0.26722118]\n",
      "----------------------------------------\n",
      "Label: jamesJordan, Features Shape: (32, 13)\n",
      "[-3.2494419   1.327051    0.41406462  0.47229376  0.3150332   0.2748762\n",
      "  0.2426674   0.1566485   0.12597652  0.00394435 -0.08869895  0.0449551\n",
      " -0.03936989]\n",
      "----------------------------------------\n",
      "Label: jamesJordan, Features Shape: (32, 13)\n",
      "[-2.9831007   1.8137913  -0.16146773  0.47425923  0.00875548  0.29903018\n",
      "  0.2555879  -0.43166637  0.38265577  0.22556813 -0.05360721  0.13231039\n",
      "  0.03788369]\n",
      "----------------------------------------\n",
      "Label: jamesJordan, Features Shape: (32, 13)\n",
      "[-3.3921175   0.8149754   0.3058387  -0.03186739  0.41767815  0.5429136\n",
      "  0.12602273  0.239213    0.19024958  0.19771998  0.22543798  0.19063786\n",
      "  0.17329803]\n",
      "----------------------------------------\n",
      "Label: jamesJordan, Features Shape: (32, 13)\n",
      "[-3.3702705   0.9854987   0.07228278  0.34443638  0.27034643  0.37268567\n",
      "  0.24444853  0.32546353  0.18101467  0.02351005  0.03258126  0.25963244\n",
      "  0.25836995]\n",
      "----------------------------------------\n",
      "Label: jamesJordan, Features Shape: (32, 13)\n",
      "[-3.4419944   0.53227067  0.12887053  0.44838157  0.36572552  0.34647197\n",
      "  0.18244933  0.28721684  0.34119362  0.19009176  0.17292811  0.22784063\n",
      "  0.21855383]\n",
      "----------------------------------------\n",
      "Label: jamesJordan, Features Shape: (32, 13)\n",
      "[-3.3988254   0.13089296  0.4159339   0.73931104  0.17416087  0.40194768\n",
      "  0.4851847   0.25121573  0.32126135 -0.01424581  0.02042452  0.28781837\n",
      "  0.18491998]\n",
      "----------------------------------------\n",
      "Label: jamesJordan, Features Shape: (32, 13)\n",
      "[-3.40795779e+00  7.53513157e-01  3.16799618e-03  2.68394083e-01\n",
      "  2.22113624e-01  3.90229553e-01  4.47545171e-01  3.97961527e-01\n",
      "  1.16749436e-01  2.52603799e-01  2.44924128e-01  1.54819697e-01\n",
      "  1.55935705e-01]\n",
      "----------------------------------------\n",
      "Label: jamesJordan, Features Shape: (32, 13)\n",
      "[-3.3174884   1.2018262   0.07018412  0.33252865  0.22885564  0.44046047\n",
      "  0.25611174  0.2045579   0.1590699   0.12534323  0.03557144  0.1745445\n",
      "  0.0884347 ]\n",
      "----------------------------------------\n",
      "Label: jamesJordan, Features Shape: (32, 13)\n",
      "[-3.3149183   1.206719    0.23610589  0.46314302  0.12780114  0.1963735\n",
      " -0.00882998  0.14972247  0.23366174  0.20198877  0.10574555  0.10142016\n",
      "  0.3010672 ]\n",
      "----------------------------------------\n",
      "Label: jamesJordan, Features Shape: (32, 13)\n",
      "[-3.0286584   1.4683583  -0.13294147  1.1303296   0.09047969 -0.11633129\n",
      "  0.19874467 -0.09603064  0.36574578 -0.2756817   0.06074642  0.30129957\n",
      "  0.03393935]\n",
      "----------------------------------------\n",
      "Label: jamesJordan, Features Shape: (32, 13)\n",
      "[-3.4447672   0.5405245   0.4166871   0.37674874  0.30747503  0.34233108\n",
      "  0.19611628  0.2792222   0.22486156  0.17484209  0.22116914  0.15892603\n",
      "  0.20586358]\n",
      "----------------------------------------\n",
      "Label: jamesJordan, Features Shape: (32, 13)\n",
      "[-3.4506264   0.4517277   0.11970024  0.3358334   0.3983683   0.41141722\n",
      "  0.24424614  0.29541448  0.24476914  0.26623034  0.23050946  0.20548137\n",
      "  0.24692848]\n",
      "----------------------------------------\n",
      "Label: jamesJordan, Features Shape: (32, 13)\n",
      "[-3.2455623   1.3205531  -0.2490884   0.06412622  0.15298235  0.5012582\n",
      "  0.28768456  0.41897327  0.10945152  0.24156646  0.14351578  0.12421319\n",
      "  0.13032597]\n",
      "----------------------------------------\n",
      "Label: jamesJordan, Features Shape: (32, 13)\n",
      "[-3.0050597   1.7609211  -0.0153541   0.16126686 -0.18745148  0.2370386\n",
      "  0.6871011  -0.34219867  0.10787951  0.16996571  0.30423778  0.16453306\n",
      " -0.04287989]\n",
      "----------------------------------------\n",
      "Label: jamesJordan, Features Shape: (32, 13)\n",
      "[-3.3890991   0.17133187  0.8557715   0.18017903  0.22414672  0.5969816\n",
      "  0.17505075  0.34792465  0.26539758  0.06876709  0.13471806  0.17471772\n",
      "  0.19411255]\n",
      "----------------------------------------\n",
      "Label: jamesJordan, Features Shape: (32, 13)\n",
      "[-3.28965402e+00  1.25171483e+00  2.25755900e-01  5.80719113e-01\n",
      "  1.60707936e-01  2.51332372e-01  1.91228598e-01  1.51944987e-03\n",
      "  2.16525659e-01  5.26734293e-02  6.86403885e-02  1.72145396e-01\n",
      "  1.16691045e-01]\n",
      "----------------------------------------\n",
      "Label: jamesJordan, Features Shape: (32, 13)\n",
      "[-3.1939175   1.5635077   0.3668615   0.22393906  0.23943576  0.21295677\n",
      "  0.112216    0.0659512   0.05051041  0.07346383 -0.00443269  0.15188761\n",
      "  0.13762026]\n",
      "----------------------------------------\n",
      "Label: jamesJordan, Features Shape: (32, 13)\n",
      "[-3.2125072   1.4791003   0.28352332 -0.02284922  0.03302902  0.3562793\n",
      "  0.40109566  0.21623354 -0.02819907  0.03445506  0.11372331  0.15467031\n",
      "  0.19144581]\n",
      "----------------------------------------\n",
      "Label: jamesJordan, Features Shape: (32, 13)\n",
      "[-3.3792288   0.9881576   0.3128247   0.01876716  0.1006619   0.28942227\n",
      "  0.33450815  0.235448    0.21073513  0.2498152   0.24118766  0.21942107\n",
      "  0.17827985]\n",
      "----------------------------------------\n"
     ]
    }
   ],
   "source": [
    "for feature_set, label in zip(features, labels[74:150]):\n",
    "    print(f\"Label: {label}, Features Shape: {feature_set.shape}\")\n",
    "    print(feature_set[0])  # Optionally print the actual features\n",
    "    print(\"-\" * 40)  # Separator for readability"
   ]
  },
  {
   "cell_type": "markdown",
   "metadata": {},
   "source": [
    "### Training and splitting the data"
   ]
  },
  {
   "cell_type": "code",
   "execution_count": 52,
   "metadata": {},
   "outputs": [],
   "source": [
    "X_train, X_test, y_train, y_test = train_test_split(features, labels, test_size= .2, random_state= 42)"
   ]
  },
  {
   "cell_type": "code",
   "execution_count": 53,
   "metadata": {},
   "outputs": [
    {
     "name": "stdout",
     "output_type": "stream",
     "text": [
      "(3102, 32, 13)\n"
     ]
    }
   ],
   "source": [
    "#Original shape shows n_samples, n_features, and n_channels\n",
    "print(X_train.shape)"
   ]
  },
  {
   "cell_type": "markdown",
   "metadata": {},
   "source": [
    "### Reshape for SVM since it takes 2D arrays"
   ]
  },
  {
   "cell_type": "code",
   "execution_count": 54,
   "metadata": {},
   "outputs": [],
   "source": [
    "X_train_SVM = X_train.reshape(X_train.shape[0], -1)\n",
    "X_test_SVM = X_test.reshape(X_test.shape[0], -1)"
   ]
  },
  {
   "cell_type": "markdown",
   "metadata": {},
   "source": [
    "### Trying the SVM approach"
   ]
  },
  {
   "cell_type": "code",
   "execution_count": 55,
   "metadata": {},
   "outputs": [
    {
     "name": "stdout",
     "output_type": "stream",
     "text": [
      "0.7435567010309279\n"
     ]
    }
   ],
   "source": [
    "clm = SVC(kernel=\"linear\")\n",
    "clm.fit(X_train_SVM,y_train)\n",
    "\n",
    "y_predict = clm.predict(X_test_SVM)\n",
    "incorrect = y_predict != y_test\n",
    "print((len(y_test) - sum(incorrect))/len(y_test))"
   ]
  },
  {
   "cell_type": "code",
   "execution_count": 56,
   "metadata": {},
   "outputs": [
    {
     "name": "stdout",
     "output_type": "stream",
     "text": [
      "jamesJordan \n",
      "\taccuracy = 0.7058823529411765\n",
      "\tpredict/real = 48/68\n",
      "kevinKiley \n",
      "\taccuracy = 0.717391304347826\n",
      "\tpredict/real = 33/46\n",
      "victoriaSpartz \n",
      "\taccuracy = 0.76\n",
      "\tpredict/real = 19/25\n",
      "richardLarsen \n",
      "\taccuracy = 0.8409090909090909\n",
      "\tpredict/real = 37/44\n",
      "samuelGraves \n",
      "\taccuracy = 0.5945945945945946\n",
      "\tpredict/real = 44/74\n",
      "christineSmith \n",
      "\taccuracy = 0.6\n",
      "\tpredict/real = 6/10\n",
      "michaelQuigley \n",
      "\taccuracy = 0.6666666666666666\n",
      "\tpredict/real = 6/9\n",
      "addisonWilson \n",
      "\taccuracy = 0.9238578680203046\n",
      "\tpredict/real = 182/197\n",
      "jerroldNadler \n",
      "\taccuracy = 0.8133333333333334\n",
      "\tpredict/real = 61/75\n",
      "michaelLawler \n",
      "\taccuracy = 0.4666666666666667\n",
      "\tpredict/real = 7/15\n",
      "stephenCohen \n",
      "\taccuracy = 0.6845637583892618\n",
      "\tpredict/real = 102/149\n",
      "thomasMcclintock \n",
      "\taccuracy = 0.5\n",
      "\tpredict/real = 24/48\n",
      "sheldonWhitehouse \n",
      "\taccuracy = 0.5\n",
      "\tpredict/real = 8/16\n"
     ]
    }
   ],
   "source": [
    "total = 0\n",
    "predict = 0\n",
    "real_dict = {}\n",
    "pred_dict = {}\n",
    "\n",
    "for i in labels:\n",
    "    real_dict[i] = 0\n",
    "    pred_dict[i] = 0\n",
    "\n",
    "for pred, real in zip(y_predict,y_test):\n",
    "    real_dict[real] += 1\n",
    "    pred_dict[real] += 1 if real == pred else 0\n",
    "for name in real_dict:\n",
    "    print(\n",
    "         f\"{name} \\n\\taccuracy = {pred_dict[name]/real_dict[name]}\" \n",
    "         f\"\\n\\tpredict/real = {pred_dict[name]}/{real_dict[name]}\"\n",
    "         )"
   ]
  },
  {
   "cell_type": "markdown",
   "metadata": {},
   "source": [
    "## Try RNN approach"
   ]
  },
  {
   "cell_type": "markdown",
   "metadata": {},
   "source": [
    "### Label Encoding"
   ]
  },
  {
   "cell_type": "code",
   "execution_count": 57,
   "metadata": {},
   "outputs": [
    {
     "name": "stdout",
     "output_type": "stream",
     "text": [
      "13\n",
      "13\n"
     ]
    }
   ],
   "source": [
    "label_encoder = LabelEncoder()\n",
    "label_enc = label_encoder.fit_transform(labels)\n",
    "#label_encoder.classes_ = np.array(labels)\n",
    "X_train_rnn, X_test_rnn, y_train_rnn, y_test_rnn = train_test_split(features, label_enc, test_size=0.2, random_state=42)\n",
    "print(len(np.unique(label_enc)))\n",
    "print(len(np.unique(y_train_rnn)))"
   ]
  },
  {
   "cell_type": "code",
   "execution_count": 58,
   "metadata": {},
   "outputs": [
    {
     "name": "stderr",
     "output_type": "stream",
     "text": [
      "/Users/ryanbirmingham/Library/Python/3.9/lib/python/site-packages/keras/src/layers/rnn/rnn.py:204: UserWarning: Do not pass an `input_shape`/`input_dim` argument to a layer. When using Sequential models, prefer using an `Input(shape)` object as the first layer in the model instead.\n",
      "  super().__init__(**kwargs)\n"
     ]
    },
    {
     "name": "stdout",
     "output_type": "stream",
     "text": [
      "Epoch 1/20\n",
      "\u001b[1m97/97\u001b[0m \u001b[32m━━━━━━━━━━━━━━━━━━━━\u001b[0m\u001b[37m\u001b[0m \u001b[1m8s\u001b[0m 51ms/step - accuracy: 0.2807 - loss: 2.1929\n",
      "Epoch 2/20\n",
      "\u001b[1m97/97\u001b[0m \u001b[32m━━━━━━━━━━━━━━━━━━━━\u001b[0m\u001b[37m\u001b[0m \u001b[1m5s\u001b[0m 46ms/step - accuracy: 0.4948 - loss: 1.5482\n",
      "Epoch 3/20\n",
      "\u001b[1m97/97\u001b[0m \u001b[32m━━━━━━━━━━━━━━━━━━━━\u001b[0m\u001b[37m\u001b[0m \u001b[1m5s\u001b[0m 49ms/step - accuracy: 0.6379 - loss: 1.1291\n",
      "Epoch 4/20\n",
      "\u001b[1m97/97\u001b[0m \u001b[32m━━━━━━━━━━━━━━━━━━━━\u001b[0m\u001b[37m\u001b[0m \u001b[1m5s\u001b[0m 47ms/step - accuracy: 0.6713 - loss: 0.9966\n",
      "Epoch 5/20\n",
      "\u001b[1m97/97\u001b[0m \u001b[32m━━━━━━━━━━━━━━━━━━━━\u001b[0m\u001b[37m\u001b[0m \u001b[1m5s\u001b[0m 47ms/step - accuracy: 0.7335 - loss: 0.8128\n",
      "Epoch 6/20\n",
      "\u001b[1m97/97\u001b[0m \u001b[32m━━━━━━━━━━━━━━━━━━━━\u001b[0m\u001b[37m\u001b[0m \u001b[1m5s\u001b[0m 47ms/step - accuracy: 0.7410 - loss: 0.8003\n",
      "Epoch 7/20\n",
      "\u001b[1m97/97\u001b[0m \u001b[32m━━━━━━━━━━━━━━━━━━━━\u001b[0m\u001b[37m\u001b[0m \u001b[1m5s\u001b[0m 49ms/step - accuracy: 0.7747 - loss: 0.6786\n",
      "Epoch 8/20\n",
      "\u001b[1m97/97\u001b[0m \u001b[32m━━━━━━━━━━━━━━━━━━━━\u001b[0m\u001b[37m\u001b[0m \u001b[1m5s\u001b[0m 47ms/step - accuracy: 0.7795 - loss: 0.6486\n",
      "Epoch 9/20\n",
      "\u001b[1m97/97\u001b[0m \u001b[32m━━━━━━━━━━━━━━━━━━━━\u001b[0m\u001b[37m\u001b[0m \u001b[1m5s\u001b[0m 48ms/step - accuracy: 0.8006 - loss: 0.6062\n",
      "Epoch 10/20\n",
      "\u001b[1m97/97\u001b[0m \u001b[32m━━━━━━━━━━━━━━━━━━━━\u001b[0m\u001b[37m\u001b[0m \u001b[1m5s\u001b[0m 53ms/step - accuracy: 0.8284 - loss: 0.5123\n",
      "Epoch 11/20\n",
      "\u001b[1m97/97\u001b[0m \u001b[32m━━━━━━━━━━━━━━━━━━━━\u001b[0m\u001b[37m\u001b[0m \u001b[1m7s\u001b[0m 76ms/step - accuracy: 0.8156 - loss: 0.5230\n",
      "Epoch 12/20\n",
      "\u001b[1m97/97\u001b[0m \u001b[32m━━━━━━━━━━━━━━━━━━━━\u001b[0m\u001b[37m\u001b[0m \u001b[1m5s\u001b[0m 53ms/step - accuracy: 0.8481 - loss: 0.4731\n",
      "Epoch 13/20\n",
      "\u001b[1m97/97\u001b[0m \u001b[32m━━━━━━━━━━━━━━━━━━━━\u001b[0m\u001b[37m\u001b[0m \u001b[1m6s\u001b[0m 59ms/step - accuracy: 0.8558 - loss: 0.4515\n",
      "Epoch 14/20\n",
      "\u001b[1m97/97\u001b[0m \u001b[32m━━━━━━━━━━━━━━━━━━━━\u001b[0m\u001b[37m\u001b[0m \u001b[1m7s\u001b[0m 70ms/step - accuracy: 0.8616 - loss: 0.3894\n",
      "Epoch 15/20\n",
      "\u001b[1m97/97\u001b[0m \u001b[32m━━━━━━━━━━━━━━━━━━━━\u001b[0m\u001b[37m\u001b[0m \u001b[1m6s\u001b[0m 65ms/step - accuracy: 0.8674 - loss: 0.3890\n",
      "Epoch 16/20\n",
      "\u001b[1m97/97\u001b[0m \u001b[32m━━━━━━━━━━━━━━━━━━━━\u001b[0m\u001b[37m\u001b[0m \u001b[1m7s\u001b[0m 76ms/step - accuracy: 0.8821 - loss: 0.3463\n",
      "Epoch 17/20\n",
      "\u001b[1m97/97\u001b[0m \u001b[32m━━━━━━━━━━━━━━━━━━━━\u001b[0m\u001b[37m\u001b[0m \u001b[1m7s\u001b[0m 69ms/step - accuracy: 0.8954 - loss: 0.3214\n",
      "Epoch 18/20\n",
      "\u001b[1m97/97\u001b[0m \u001b[32m━━━━━━━━━━━━━━━━━━━━\u001b[0m\u001b[37m\u001b[0m \u001b[1m7s\u001b[0m 70ms/step - accuracy: 0.8874 - loss: 0.3142\n",
      "Epoch 19/20\n",
      "\u001b[1m97/97\u001b[0m \u001b[32m━━━━━━━━━━━━━━━━━━━━\u001b[0m\u001b[37m\u001b[0m \u001b[1m7s\u001b[0m 67ms/step - accuracy: 0.9076 - loss: 0.2721\n",
      "Epoch 20/20\n",
      "\u001b[1m97/97\u001b[0m \u001b[32m━━━━━━━━━━━━━━━━━━━━\u001b[0m\u001b[37m\u001b[0m \u001b[1m6s\u001b[0m 63ms/step - accuracy: 0.9083 - loss: 0.2828\n"
     ]
    }
   ],
   "source": [
    "model = tf.keras.Sequential([\n",
    "    tf.keras.layers.LSTM(128, input_shape=(X_train_rnn.shape[1], X_train_rnn.shape[2])),\n",
    "    tf.keras.layers.Dense(64, activation='relu'),\n",
    "    tf.keras.layers.Dense(len(np.unique(label_enc)), activation='softmax')\n",
    "])\n",
    "\n",
    "# Compile the model\n",
    "model.compile(optimizer='adam', loss='sparse_categorical_crossentropy', metrics=['accuracy'])\n",
    "\n",
    "# Train the model\n",
    "#history = model.fit(X_train, y_train, validation_data=(X_val, y_val), epochs=20, batch_size=32)\n",
    "history = model.fit(X_train_rnn, y_train_rnn, epochs=20, batch_size=32)"
   ]
  },
  {
   "cell_type": "code",
   "execution_count": 59,
   "metadata": {},
   "outputs": [
    {
     "name": "stdout",
     "output_type": "stream",
     "text": [
      "\u001b[1m25/25\u001b[0m \u001b[32m━━━━━━━━━━━━━━━━━━━━\u001b[0m\u001b[37m\u001b[0m \u001b[1m2s\u001b[0m 51ms/step\n",
      "Prediction time: 2.1749629974365234\n",
      "776\n",
      "Test Evaluation Accuracy: 0.8556701030927835\n"
     ]
    },
    {
     "data": {
      "image/png": "[encoded data removed]",
      "text/plain": [
       "<Figure size 800x600 with 2 Axes>"
      ]
     },
     "metadata": {},
     "output_type": "display_data"
    }
   ],
   "source": [
    "from sklearn.metrics import accuracy_score\n",
    "from sklearn.metrics import confusion_matrix\n",
    "import seaborn as sns\n",
    "import matplotlib.pyplot as plt\n",
    "import time\n",
    "start_time = time.time()\n",
    "y_pred_probabilities = model.predict(X_test_rnn)\n",
    "print(\"Prediction time:\", time.time() - start_time)\n",
    "\n",
    "y_pred = np.argmax(y_pred_probabilities, axis=1)\n",
    "\n",
    "# Decode the labels back to original format\n",
    "y_test_decoded = label_encoder.inverse_transform(y_test_rnn)\n",
    "y_pred_decoded = label_encoder.inverse_transform(y_pred)\n",
    "print(len(y_pred_decoded))\n",
    "# Create a confusion matrix\n",
    "conf_matrix = confusion_matrix(y_test_decoded, y_pred_decoded, labels=np.unique(labels))\n",
    "\n",
    "# Calculate accuracy\n",
    "accuracy = accuracy_score(y_test_decoded, y_pred_decoded)\n",
    "print(f\"Test Evaluation Accuracy: {accuracy}\")\n",
    "\n",
    "plt.figure(figsize=(8, 6))\n",
    "sns.heatmap(conf_matrix, annot=True, fmt=\"d\", cmap=\"Blues\", xticklabels=label_encoder.classes_, yticklabels=label_encoder.classes_)\n",
    "\n",
    "# Rotate x-axis labels by 45 degrees\n",
    "plt.xticks(rotation=45, ha=\"right\")\n",
    "\n",
    "plt.title(\"Confusion Matrix\")\n",
    "plt.xlabel(\"Predicted Label\")\n",
    "plt.ylabel(\"True Label\")\n",
    "plt.show()"
   ]
  },
  {
   "cell_type": "code",
   "execution_count": null,
   "metadata": {},
   "outputs": [],
   "source": []
  }
 ],
 "metadata": {
  "kernelspec": {
   "display_name": "Python 3",
   "language": "python",
   "name": "python3"
  },
  "language_info": {
   "codemirror_mode": {
    "name": "ipython",
    "version": 3
   },
   "file_extension": ".py",
   "mimetype": "text/x-python",
   "name": "python",
   "nbconvert_exporter": "python",
   "pygments_lexer": "ipython3",
   "version": "3.9.6"
  }
 },
 "nbformat": 4,
 "nbformat_minor": 2
}
